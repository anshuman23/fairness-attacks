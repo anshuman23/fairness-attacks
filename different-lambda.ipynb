{
 "cells": [
  {
   "cell_type": "markdown",
   "metadata": {},
   "source": [
    "First, let's import all necessary libraries:"
   ]
  },
  {
   "cell_type": "code",
   "execution_count": null,
   "metadata": {},
   "outputs": [],
   "source": [
    "import collections\n",
    "import logging\n",
    "import numpy as np\n",
    "import pickle\n",
    "import pytorch_lightning as pl\n",
    "import torch\n",
    "\n",
    "from copy import deepcopy\n",
    "from matplotlib import pyplot as plt\n",
    "from pytorch_lightning.callbacks.early_stopping import EarlyStopping\n",
    "from torch.nn import BCEWithLogitsLoss\n",
    "from tqdm.notebook import tqdm\n",
    "\n",
    "from attacks import influence_attack\n",
    "from datamodules import GermanCreditDatamodule, CompasDatamodule, DrugConsumptionDatamodule\n",
    "from fairness import FairnessLoss\n",
    "from trainingmodule import BinaryClassifier\n",
    "\n",
    "logging.getLogger(\"pytorch_lightning\").setLevel(logging.WARNING)"
   ]
  },
  {
   "cell_type": "markdown",
   "metadata": {},
   "source": [
    "Now we create a **general attack function** that handles all different attack methods"
   ]
  },
  {
   "cell_type": "code",
   "execution_count": null,
   "metadata": {},
   "outputs": [],
   "source": [
    "def attack(dm, model, eps, lamda):\n",
    "    # Create adversarial loss according to Mehrabi et al.\n",
    "    bce_loss, fairness_loss = BCEWithLogitsLoss(), FairnessLoss(dm.get_sensitive_index())\n",
    "    adv_loss = lambda _model, X, y, adv_mask: (\n",
    "            bce_loss(_model(X), y.float()) + lamda * fairness_loss(X, *_model.get_params())\n",
    "    )\n",
    "    \n",
    "    # Create new training pipeline to use in influence attack\n",
    "    trainer = pl.Trainer(\n",
    "        max_epochs=100,\n",
    "        gpus=1 if torch.cuda.is_available() else 0,\n",
    "        enable_model_summary=False,\n",
    "        enable_progress_bar=False,\n",
    "        log_every_n_steps=1,\n",
    "        callbacks=[EarlyStopping(monitor=\"train_acc\", mode=\"max\", patience=10)]\n",
    "    )\n",
    "\n",
    "    poisoned_dataset = influence_attack(\n",
    "        model=model,\n",
    "        datamodule=dm,\n",
    "        trainer=trainer,\n",
    "        adv_loss=adv_loss,\n",
    "        eps=eps,\n",
    "        eta=0.01,\n",
    "        attack_iters=100,\n",
    "    )\n",
    "    \n",
    "    # Create deep copy of the original dataset and poison the copy\n",
    "    dm = deepcopy(dm)\n",
    "    dm.update_train_dataset(poisoned_dataset)\n",
    "\n",
    "    return dm"
   ]
  },
  {
   "cell_type": "markdown",
   "metadata": {},
   "source": [
    "and a **nested dictionary**, which is convinient to store results for multiple datasets and metrics:"
   ]
  },
  {
   "cell_type": "code",
   "execution_count": null,
   "metadata": {},
   "outputs": [],
   "source": [
    "def nested_dict():\n",
    "   return collections.defaultdict(nested_dict)\n",
    "\n",
    "from pathlib import Path\n",
    "if Path('different_lambdas.pkl').is_file():\n",
    "    with open('different_lambdas.pkl', 'rb') as f:\n",
    "        results = pickle.load(f)\n",
    "else:\n",
    "    results = nested_dict()"
   ]
  },
  {
   "cell_type": "markdown",
   "metadata": {},
   "source": [
    "Finally, iterate over all possible combination of Figure 2 in Mehrabi et al."
   ]
  },
  {
   "cell_type": "code",
   "execution_count": null,
   "metadata": {},
   "outputs": [],
   "source": [
    "# Create Datamodules for all datasets\n",
    "german_credit_datamodule = GermanCreditDatamodule('data/', 10)\n",
    "compas_datamodule = CompasDatamodule('data/', 50)\n",
    "drug_consumption_datamodule = DrugConsumptionDatamodule('data/', 10)\n",
    "\n",
    "# Create Trainer\n",
    "\n",
    "\n",
    "for dm in [german_credit_datamodule, compas_datamodule, drug_consumption_datamodule]:\n",
    "    for eps in [0, 0.1, 0.5, 1]:\n",
    "        print(f'Poisoning {dm.get_dataset_name()} dataset with eps = {eps}:')\n",
    "        for lamda in tqdm([0, 0.1, 0.2, 0.4, 0.6, 0.8, 1]):\n",
    "            pl.seed_everything(123)\n",
    "            \n",
    "            metrics = {'test_error': [], 'SPD': [], 'EOD': []}\n",
    "            for run in range(3):\n",
    "                # Create a Binary Classifier model for each dataset\n",
    "                model = BinaryClassifier('LogisticRegression', dm.get_input_size(), lr=1e-3)\n",
    "                \n",
    "                # Create poisoned dataset\n",
    "                if eps == 0:\n",
    "                    dm_poisoned = dm\n",
    "                else:\n",
    "                    dm_poisoned = attack(dm, model, eps, lamda)\n",
    "                trainer = pl.Trainer(\n",
    "                    max_epochs=300,\n",
    "                    gpus=1 if torch.cuda.is_available() else 0,\n",
    "                    enable_model_summary=False,\n",
    "                    enable_progress_bar=False,\n",
    "                    log_every_n_steps=1,\n",
    "                    callbacks=[EarlyStopping(monitor=\"train_acc\", mode=\"max\", patience=10)]\n",
    "                )\n",
    "                \n",
    "                # Train on the poisoned dataset\n",
    "                trainer.fit(model, dm_poisoned)\n",
    "                \n",
    "                # Save Accuracy and Fairness metrics\n",
    "                run_results = trainer.test(model, dm)[0]\n",
    "                for metric, value in run_results:\n",
    "                    metrics[metric].append(value)\n",
    "                    \n",
    "            # Save mean of metrics\n",
    "            results[dm.get_dataset_name()]['Test Error'][eps]['mean'][lamda] = np.mean(metrics['test_error'])\n",
    "            results[dm.get_dataset_name()]['Statistical Parity'][eps]['mean'][lamda] = np.mean(metrics['SPD'])\n",
    "            results[dm.get_dataset_name()]['Equality of Opportunity'][eps]['mean'][lamda] = np.mean(metrics['EOD'])\n",
    "            \n",
    "            # Save standard deviation of metrics\n",
    "            results[dm.get_dataset_name()]['Test Error'][eps]['std'][lamda] = np.std(metrics['test_error'])\n",
    "            results[dm.get_dataset_name()]['Statistical Parity'][eps]['std'][lamda] = np.std(metrics['SPD'])\n",
    "            results[dm.get_dataset_name()]['Equality of Opportunity'][eps]['std'][lamda] = np.std(metrics['EOD'])\n",
    "            \n",
    "            # for eps = 0 run the experiment only with lambda = 0\n",
    "            if eps == 0:\n",
    "                break\n",
    "            \n",
    "            with open('different_lambdas.pkl', 'wb') as f:\n",
    "                pickle.dump(results, f)"
   ]
  },
  {
   "cell_type": "markdown",
   "metadata": {},
   "source": [
    "and plot results:"
   ]
  },
  {
   "cell_type": "code",
   "execution_count": null,
   "metadata": {},
   "outputs": [],
   "source": [
    "# Reproduce plot styling of the original paper\n",
    "colors, markers = ['r', 'b', 'y', 'g'], ['*', 's', 'h', '^']\n",
    "\n",
    "fig, ax = plt.subplots(3, 3, figsize=(20, 10))\n",
    "for i, dataset in enumerate(['COMPAS']):\n",
    "    for j, metric in enumerate(['Test Error', 'Statistical Parity', 'Equality of Opportunity']):\n",
    "        for k, eps in enumerate([0, 0.1, 0.5, 1]):\n",
    "            lamda = np.array(list(results[dataset][metric][eps]['mean'].keys()))\n",
    "            mean = np.array(list(results[dataset][metric][eps]['mean'].values()))\n",
    "            std = np.array(list(results[dataset][metric][eps]['std'].values()))\n",
    "            print(std)\n",
    "            \n",
    "            ax[i, j].plot(lamda, mean, c=colors[k], marker=markers[k], label='$\\epsilon$' + f'={eps}')\n",
    "            ax[i, j].fill_between(lamda, mean-1*std, mean+1*std, color=colors[k], alpha=0.2)\n",
    "        \n",
    "        ax[i, j].set_xlabel('$\\lambda$', fontweight='bold')\n",
    "        ax[i, j].set_ylabel(metric, fontweight='bold')\n",
    "        ax[i, j].set_title(dataset, fontweight='bold')\n",
    "        ax[i, j].legend(loc='upper left', ncol=3)\n",
    "        ax[i, j].set_ylim(0, 1)\n",
    "plt.subplots_adjust(left=0.1, bottom=0.1, right=0.9, top=0.9, wspace=0.2, hspace=0.4)\n",
    "plt.savefig('different-lambdas.eps')"
   ]
  }
 ],
 "metadata": {
  "interpreter": {
   "hash": "2c11462fc89fac378f146398dd73443d105d4de5c614974541e5ab141425dc19"
  },
  "kernelspec": {
   "display_name": "Python 3 (ipykernel)",
   "language": "python",
   "name": "python3"
  },
  "language_info": {
   "codemirror_mode": {
    "name": "ipython",
    "version": 3
   },
   "file_extension": ".py",
   "mimetype": "text/x-python",
   "name": "python",
   "nbconvert_exporter": "python",
   "pygments_lexer": "ipython3",
   "version": "3.9.7"
  }
 },
 "nbformat": 4,
 "nbformat_minor": 2
}
