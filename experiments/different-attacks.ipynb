{
 "cells": [
  {
   "cell_type": "markdown",
   "metadata": {},
   "source": [
    "First, let's import all necessary libraries:"
   ]
  },
  {
   "cell_type": "code",
   "execution_count": 1,
   "metadata": {},
   "outputs": [],
   "source": [
    "import collections\n",
    "import logging\n",
    "import numpy as np\n",
    "import pickle\n",
    "import pytorch_lightning as pl\n",
    "import torch\n",
    "\n",
    "from copy import deepcopy\n",
    "from pytorch_lightning.callbacks.early_stopping import EarlyStopping\n",
    "from torch.nn import BCEWithLogitsLoss\n",
    "from tqdm.notebook import tqdm\n",
    "\n",
    "from attacks import influence_attack, anchoring_attack\n",
    "from datamodules import GermanCreditDatamodule, CompasDatamodule, DrugConsumptionDatamodule\n",
    "from fairness import FairnessLoss\n",
    "from trainingmodule import BinaryClassifier\n",
    "\n",
    "logging.getLogger(\"pytorch_lightning\").setLevel(logging.WARNING)"
   ]
  },
  {
   "cell_type": "markdown",
   "metadata": {},
   "source": [
    "Now we create a **general attack function** that handles all different attack methods"
   ]
  },
  {
   "cell_type": "code",
   "execution_count": 2,
   "metadata": {},
   "outputs": [],
   "source": [
    "def attack(dm, model, eps, method):\n",
    "    if method in ['IAF', 'Koh et al', 'Solans et al']:\n",
    "        bce_loss, fairness_loss = BCEWithLogitsLoss(), FairnessLoss(dm.get_sensitive_index())\n",
    "        \n",
    "        if method == 'IAF':\n",
    "            # Create adversarial loss according to Mehrabi et al.\n",
    "            adv_loss = lambda _model, X, y, adv_mask: (\n",
    "                    bce_loss(_model(X), y.float()) + 1.0 * fairness_loss(X, *_model.get_params())\n",
    "            )\n",
    "        elif method == 'Koh et al':\n",
    "            # Create adversarial loss according to Koh et al.\n",
    "            adv_loss = lambda _model, X, y, adv_mask: bce_loss(_model(X), y.float())\n",
    "        else:\n",
    "            # Create adversarial loss according to Solans et al.\n",
    "            adv_loss = lambda _model, X, y, adv_mask: (\n",
    "                bce_loss(_model(X[~adv_mask]), y[~adv_mask].float()) + \\\n",
    "                bce_loss(_model(X[adv_mask]), y[adv_mask].float()) * torch.sum(~adv_mask) / torch.sum(adv_mask)\n",
    "            )\n",
    "        \n",
    "        # Create new training pipeline to use in influence attack\n",
    "        trainer = pl.Trainer(\n",
    "            max_epochs=100,\n",
    "            gpus=1 if torch.cuda.is_available() else 0,\n",
    "            enable_model_summary=False,\n",
    "            enable_progress_bar=False,\n",
    "            log_every_n_steps=1,\n",
    "            callbacks=[EarlyStopping(monitor=\"train_acc\", mode=\"max\", patience=10)]\n",
    "        )\n",
    "\n",
    "        poisoned_dataset = influence_attack(\n",
    "            model=model,\n",
    "            datamodule=dm,\n",
    "            trainer=trainer,\n",
    "            adv_loss=adv_loss,\n",
    "            eps=eps,\n",
    "            eta=0.01,\n",
    "            attack_iters=100,\n",
    "        )\n",
    "    elif method in ['RAA', 'NRAA']:\n",
    "        poisoned_dataset = anchoring_attack(\n",
    "            D_c=dm.get_train_dataset(),\n",
    "            sensitive_idx=dm.get_sensitive_index(),\n",
    "            eps=eps,\n",
    "            tau=0,\n",
    "            sampling_method='random' if method == 'RAA' else 'non-random',\n",
    "        )\n",
    "    else:\n",
    "        raise ValueError(f'Unknown attack {method}.')\n",
    "    \n",
    "    # Create deep copy of the original dataset and poison the copy\n",
    "    dm = deepcopy(dm)\n",
    "    dm.update_train_dataset(poisoned_dataset)\n",
    "\n",
    "    return dm"
   ]
  },
  {
   "cell_type": "markdown",
   "metadata": {},
   "source": [
    "and a **nested dictionary**, which is convinient to store results for multiple datasets and metrics:"
   ]
  },
  {
   "cell_type": "code",
   "execution_count": 5,
   "metadata": {},
   "outputs": [],
   "source": [
    "def nested_dict():\n",
    "   return collections.defaultdict(nested_dict)\n",
    "\n",
    "from pathlib import Path\n",
    "if Path('different_attacks.pkl').is_file():\n",
    "    with open('different_attacks.pkl', 'rb') as f:\n",
    "        results = pickle.load(f)\n",
    "else:\n",
    "    results = nested_dict()"
   ]
  },
  {
   "cell_type": "markdown",
   "metadata": {},
   "source": [
    "Finally, iterate over all possible combination of Figure 2 in Mehrabi et al. (Note; This takes a very long time.)"
   ]
  },
  {
   "cell_type": "code",
   "execution_count": null,
   "metadata": {},
   "outputs": [],
   "source": [
    "# Create Datamodules for all datasets\n",
    "german_credit_datamodule = GermanCreditDatamodule(data_dir='data/', batch_size=10)\n",
    "compas_datamodule = CompasDatamodule(data_dir='data/', batch_size=50)\n",
    "drug_consumption_datamodule = DrugConsumptionDatamodule(data_dir='data/', batch_size=10)\n",
    "\n",
    "for dm in [german_credit_datamodule, compas_datamodule, drug_consumption_datamodule]:\n",
    "    for method in ['IAF', 'RAA', 'NRAA', 'Koh et al', 'Solans et al']:\n",
    "        print(f'Poisoning {dm.get_dataset_name()} dataset with {method} attack:')\n",
    "        for eps in tqdm(np.arange(0, 1.1, 0.1)):\n",
    "            pl.seed_everything(123)\n",
    "            \n",
    "            metrics = {'test_error': [], 'SPD': [], 'EOD': []}\n",
    "            for run in range(3):\n",
    "                # Create a Binary Classifier model for each dataset\n",
    "                model = BinaryClassifier('LogisticRegression', dm.get_input_size(), lr=1e-3)\n",
    "                print(f\"\\tEpsilon: {eps}\")\n",
    "\n",
    "                # Create poisoned dataset\n",
    "                if eps == 0:\n",
    "                    dm_poisoned = dm\n",
    "                else:\n",
    "                    dm_poisoned = attack(dm, model, eps, method)\n",
    "\n",
    "                # Crate trainer\n",
    "                trainer = pl.Trainer(\n",
    "                    max_epochs=100,\n",
    "                    gpus=1 if torch.cuda.is_available() else 0,\n",
    "                    enable_model_summary=False,\n",
    "                    enable_progress_bar=True,\n",
    "                    log_every_n_steps=1,\n",
    "                    callbacks=[EarlyStopping(monitor=\"train_acc\", mode=\"max\", patience=10)]\n",
    "                )\n",
    "                \n",
    "                # Train on the poisoned dataset\n",
    "                trainer.fit(model, dm_poisoned)\n",
    "                \n",
    "                # Save Accuracy and Fairness metrics\n",
    "                run_results = trainer.test(model, dm)[0]\n",
    "                for metric, value in run_results.items():\n",
    "                    metrics[metric].append(value)\n",
    "                \n",
    "            # Save mean of metrics\n",
    "            results[dm.get_dataset_name()]['Test Error'][method]['mean'][eps] = np.mean(metrics['test_error'])\n",
    "            results[dm.get_dataset_name()]['Statistical Parity'][method]['mean'][eps] = np.mean(metrics['SPD'])\n",
    "            results[dm.get_dataset_name()]['Equality of Opportunity'][method]['mean'][eps] = np.mean(metrics['EOD'])\n",
    "            \n",
    "            # Save standard deviation of metrics\n",
    "            results[dm.get_dataset_name()]['Test Error'][method]['std'][eps] = np.std(metrics['test_error'])\n",
    "            results[dm.get_dataset_name()]['Statistical Parity'][method]['std'][eps] = np.std(metrics['SPD'])\n",
    "            results[dm.get_dataset_name()]['Equality of Opportunity'][method]['std'][eps] = np.std(metrics['EOD'])\n",
    "\n",
    "            with open('different-attacks.pkl', 'wb') as f:\n",
    "                pickle.dump(results, f)"
   ]
  }
 ],
 "metadata": {
  "interpreter": {
   "hash": "2c11462fc89fac378f146398dd73443d105d4de5c614974541e5ab141425dc19"
  },
  "kernelspec": {
   "display_name": "Python 3 (ipykernel)",
   "language": "python",
   "name": "python3"
  },
  "language_info": {
   "codemirror_mode": {
    "name": "ipython",
    "version": 3
   },
   "file_extension": ".py",
   "mimetype": "text/x-python",
   "name": "python",
   "nbconvert_exporter": "python",
   "pygments_lexer": "ipython3",
   "version": "3.9.7"
  }
 },
 "nbformat": 4,
 "nbformat_minor": 2
}
